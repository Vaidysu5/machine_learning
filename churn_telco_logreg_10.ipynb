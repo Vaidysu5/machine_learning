{
 "cells": [
  {
   "cell_type": "code",
   "execution_count": 2,
   "metadata": {
    "scrolled": true,
    "tags": []
   },
   "outputs": [
    {
     "name": "stdout",
     "output_type": "stream",
     "text": [
      "Requirement already satisfied: graphviz in c:\\users\\edward\\anaconda3\\lib\\site-packages (0.20.1)\n"
     ]
    }
   ],
   "source": [
    "import os\n",
    "\n",
    "import numpy as np\n",
    "import pandas as pd\n",
    "import math\n",
    "import matplotlib.pylab as plt\n",
    "import seaborn as sns\n",
    "\n",
    "%matplotlib inline\n",
    "sns.set(style='ticks', palette='Set2')\n",
    "!pip install graphviz\n"
   ]
  },
  {
   "cell_type": "code",
   "execution_count": 3,
   "metadata": {
    "scrolled": true,
    "tags": []
   },
   "outputs": [
    {
     "data": {
      "text/html": [
       "<div>\n",
       "<style scoped>\n",
       "    .dataframe tbody tr th:only-of-type {\n",
       "        vertical-align: middle;\n",
       "    }\n",
       "\n",
       "    .dataframe tbody tr th {\n",
       "        vertical-align: top;\n",
       "    }\n",
       "\n",
       "    .dataframe thead th {\n",
       "        text-align: right;\n",
       "    }\n",
       "</style>\n",
       "<table border=\"1\" class=\"dataframe\">\n",
       "  <thead>\n",
       "    <tr style=\"text-align: right;\">\n",
       "      <th></th>\n",
       "      <th>COLLEGE</th>\n",
       "      <th>INCOME</th>\n",
       "      <th>OVERAGE</th>\n",
       "      <th>LEFTOVER</th>\n",
       "      <th>HOUSE</th>\n",
       "      <th>HANDSET_PRICE</th>\n",
       "      <th>OVER_15MINS_CALLS_PER_MONTH</th>\n",
       "      <th>AVERAGE_CALL_DURATION</th>\n",
       "      <th>REPORTED_SATISFACTION</th>\n",
       "      <th>REPORTED_USAGE_LEVEL</th>\n",
       "      <th>CONSIDERING_CHANGE_OF_PLAN</th>\n",
       "      <th>LEAVE</th>\n",
       "    </tr>\n",
       "  </thead>\n",
       "  <tbody>\n",
       "    <tr>\n",
       "      <th>0</th>\n",
       "      <td>zero</td>\n",
       "      <td>31953</td>\n",
       "      <td>0</td>\n",
       "      <td>6</td>\n",
       "      <td>313378</td>\n",
       "      <td>161</td>\n",
       "      <td>0</td>\n",
       "      <td>4</td>\n",
       "      <td>unsat</td>\n",
       "      <td>little</td>\n",
       "      <td>no</td>\n",
       "      <td>STAY</td>\n",
       "    </tr>\n",
       "    <tr>\n",
       "      <th>1</th>\n",
       "      <td>one</td>\n",
       "      <td>36147</td>\n",
       "      <td>0</td>\n",
       "      <td>13</td>\n",
       "      <td>800586</td>\n",
       "      <td>244</td>\n",
       "      <td>0</td>\n",
       "      <td>6</td>\n",
       "      <td>unsat</td>\n",
       "      <td>little</td>\n",
       "      <td>considering</td>\n",
       "      <td>STAY</td>\n",
       "    </tr>\n",
       "    <tr>\n",
       "      <th>2</th>\n",
       "      <td>one</td>\n",
       "      <td>27273</td>\n",
       "      <td>230</td>\n",
       "      <td>0</td>\n",
       "      <td>305049</td>\n",
       "      <td>201</td>\n",
       "      <td>16</td>\n",
       "      <td>15</td>\n",
       "      <td>unsat</td>\n",
       "      <td>very_little</td>\n",
       "      <td>perhaps</td>\n",
       "      <td>STAY</td>\n",
       "    </tr>\n",
       "    <tr>\n",
       "      <th>3</th>\n",
       "      <td>zero</td>\n",
       "      <td>120070</td>\n",
       "      <td>38</td>\n",
       "      <td>33</td>\n",
       "      <td>788235</td>\n",
       "      <td>780</td>\n",
       "      <td>3</td>\n",
       "      <td>2</td>\n",
       "      <td>unsat</td>\n",
       "      <td>very_high</td>\n",
       "      <td>considering</td>\n",
       "      <td>LEAVE</td>\n",
       "    </tr>\n",
       "    <tr>\n",
       "      <th>4</th>\n",
       "      <td>one</td>\n",
       "      <td>29215</td>\n",
       "      <td>208</td>\n",
       "      <td>85</td>\n",
       "      <td>224784</td>\n",
       "      <td>241</td>\n",
       "      <td>21</td>\n",
       "      <td>1</td>\n",
       "      <td>very_unsat</td>\n",
       "      <td>little</td>\n",
       "      <td>never_thought</td>\n",
       "      <td>STAY</td>\n",
       "    </tr>\n",
       "  </tbody>\n",
       "</table>\n",
       "</div>"
      ],
      "text/plain": [
       "  COLLEGE  INCOME  OVERAGE  LEFTOVER   HOUSE  HANDSET_PRICE  \\\n",
       "0    zero   31953        0         6  313378            161   \n",
       "1     one   36147        0        13  800586            244   \n",
       "2     one   27273      230         0  305049            201   \n",
       "3    zero  120070       38        33  788235            780   \n",
       "4     one   29215      208        85  224784            241   \n",
       "\n",
       "   OVER_15MINS_CALLS_PER_MONTH  AVERAGE_CALL_DURATION REPORTED_SATISFACTION  \\\n",
       "0                            0                      4                 unsat   \n",
       "1                            0                      6                 unsat   \n",
       "2                           16                     15                 unsat   \n",
       "3                            3                      2                 unsat   \n",
       "4                           21                      1            very_unsat   \n",
       "\n",
       "  REPORTED_USAGE_LEVEL CONSIDERING_CHANGE_OF_PLAN  LEAVE  \n",
       "0               little                         no   STAY  \n",
       "1               little                considering   STAY  \n",
       "2          very_little                    perhaps   STAY  \n",
       "3            very_high                considering  LEAVE  \n",
       "4               little              never_thought   STAY  "
      ]
     },
     "execution_count": 3,
     "metadata": {},
     "output_type": "execute_result"
    }
   ],
   "source": [
    "# Load data\n",
    "path = \"./churn2.csv\"\n",
    "df = pd.read_csv(path)[[\"COLLEGE\", \"INCOME\", \"OVERAGE\", \"LEFTOVER\", \"HOUSE\",\"HANDSET_PRICE\",\"OVER_15MINS_CALLS_PER_MONTH\",\"AVERAGE_CALL_DURATION\",\"REPORTED_SATISFACTION\",\"REPORTED_USAGE_LEVEL\",\"CONSIDERING_CHANGE_OF_PLAN\",\"LEAVE\"]].dropna()\n",
    "# Take a look at the data\n",
    "df.head(5)"
   ]
  },
  {
   "cell_type": "code",
   "execution_count": 4,
   "metadata": {
    "scrolled": true,
    "tags": []
   },
   "outputs": [
    {
     "data": {
      "text/plain": [
       "COLLEGE                        object\n",
       "INCOME                          int64\n",
       "OVERAGE                         int64\n",
       "LEFTOVER                        int64\n",
       "HOUSE                           int64\n",
       "HANDSET_PRICE                   int64\n",
       "OVER_15MINS_CALLS_PER_MONTH     int64\n",
       "AVERAGE_CALL_DURATION           int64\n",
       "REPORTED_SATISFACTION          object\n",
       "REPORTED_USAGE_LEVEL           object\n",
       "CONSIDERING_CHANGE_OF_PLAN     object\n",
       "LEAVE                          object\n",
       "dtype: object"
      ]
     },
     "execution_count": 4,
     "metadata": {},
     "output_type": "execute_result"
    }
   ],
   "source": [
    "df.dtypes"
   ]
  },
  {
   "cell_type": "code",
   "execution_count": 5,
   "metadata": {
    "scrolled": true,
    "tags": []
   },
   "outputs": [],
   "source": [
    "# Transform COLLEGE column to a numeric variable\n",
    "#df[\"COLLEGE2\"] = (df.COLLEGE == \"one\").astype(int)\n",
    "df[\"COLLEGE2\"] = (df.COLLEGE == \"one\").astype(int)\n",
    "#df = df.drop(\"COLLEGE\", axis=\"columns\")\n",
    "#df = df.drop(\"COLLEGE\", axis=\"columns\")\n",
    "#df.head(5)"
   ]
  },
  {
   "cell_type": "code",
   "execution_count": 6,
   "metadata": {
    "tags": []
   },
   "outputs": [],
   "source": [
    "#df.REPORTED_SATISFACTION = df.REPORTED_SATISFACTION.astype('category')\n",
    "#df.REPORTED_USAGE_LEVEL = df.REPORTED_USAGE_LEVEL.astype('category')\n",
    "#df.CONSIDERING_CHANGE_OF_PLAN = df.CONSIDERING_CHANGE_OF_PLAN.astype('category')\n",
    "#df.COLLEGE2 = df.COLLEGE2.astype('category')\n",
    "###\n",
    "df.REPORTED_SATISFACTION = df.REPORTED_SATISFACTION.astype('str')\n",
    "df.REPORTED_USAGE_LEVEL = df.REPORTED_USAGE_LEVEL.astype('str')\n",
    "df.CONSIDERING_CHANGE_OF_PLAN = df.CONSIDERING_CHANGE_OF_PLAN.astype('str')"
   ]
  },
  {
   "cell_type": "code",
   "execution_count": 7,
   "metadata": {
    "tags": []
   },
   "outputs": [
    {
     "data": {
      "text/plain": [
       "COLLEGE                        object\n",
       "INCOME                          int64\n",
       "OVERAGE                         int64\n",
       "LEFTOVER                        int64\n",
       "HOUSE                           int64\n",
       "HANDSET_PRICE                   int64\n",
       "OVER_15MINS_CALLS_PER_MONTH     int64\n",
       "AVERAGE_CALL_DURATION           int64\n",
       "REPORTED_SATISFACTION          object\n",
       "REPORTED_USAGE_LEVEL           object\n",
       "CONSIDERING_CHANGE_OF_PLAN     object\n",
       "LEAVE                          object\n",
       "COLLEGE2                        int32\n",
       "LEAVE2                          int32\n",
       "dtype: object"
      ]
     },
     "execution_count": 7,
     "metadata": {},
     "output_type": "execute_result"
    }
   ],
   "source": [
    "df[\"LEAVE2\"] = (df.LEAVE == \"STAY\").astype(int)\n",
    "#df = df.drop(\"LEAVE\", axis=\"columns\")\n",
    "df.head(5)\n",
    "df.dtypes"
   ]
  },
  {
   "cell_type": "code",
   "execution_count": 8,
   "metadata": {},
   "outputs": [],
   "source": [
    "# Using variables INCOME, HOUSE, and COLLEGE2 as we did in our lab notebook\n",
    "#predictor_cols = [\"INCOME\", \"HOUSE\",\"COLLEGE2\"]\n",
    "#predictor_cols = [\"INCOME\", \"OVERAGE\", \"LEFTOVER\", \"HOUSE\",\"HANDSET_PRICE\",\"OVER_15MINS_CALLS_PER_MONTH\",\"AVERAGE_CALL_DURATION\",\"REPORTED_SATISFACTION\",\"REPORTED_USAGE_LEVEL\",\"CONSIDERING_CHANGE_OF_PLAN\",\"COLLEGE2\"]\n",
    "predictor_cols = [\"INCOME\", \"OVERAGE\", \"LEFTOVER\", \"HOUSE\",\"HANDSET_PRICE\",\"OVER_15MINS_CALLS_PER_MONTH\",\"AVERAGE_CALL_DURATION\",\"COLLEGE2\"]\n",
    "#predictor_cols = [\"INCOME\", \"OVERAGE\", \"LEFTOVER\", \"HOUSE\",\"HANDSET_PRICE\",\"OVER_15MINS_CALLS_PER_MONTH\",\"AVERAGE_CALL_DURATION\"]\n",
    "\n",
    "\n",
    "target_col = \"LEAVE2\"\n",
    "from sklearn.model_selection import train_test_split\n",
    "X_train, X_test, y_train, y_test = train_test_split(df[predictor_cols],df[target_col],test_size = 0.25,random_state = 0)"
   ]
  },
  {
   "cell_type": "code",
   "execution_count": 9,
   "metadata": {},
   "outputs": [
    {
     "name": "stdout",
     "output_type": "stream",
     "text": [
      "X_train shape: (15000, 8)\n",
      "X_test shape: (5000, 8)\n",
      "y_train shape: (15000,)\n",
      "y_test shape: (5000,)\n"
     ]
    }
   ],
   "source": [
    "print(\"X_train shape: {}\".format(X_train.shape))\n",
    "print(\"X_test shape: {}\".format(X_test.shape))\n",
    "print(\"y_train shape: {}\".format(y_train.shape))\n",
    "print(\"y_test shape: {}\".format(y_test.shape))"
   ]
  },
  {
   "cell_type": "code",
   "execution_count": 10,
   "metadata": {
    "scrolled": true
   },
   "outputs": [
    {
     "name": "stdout",
     "output_type": "stream",
     "text": [
      "Cross validation scores: [0.602      0.62133333 0.61066667 0.61466667 0.646      0.64\n",
      " 0.644      0.63333333 0.63066667 0.658     ]\n",
      "Average cross validation score: \t\t0.63\n",
      "Std. dev of cross validation score: \t\t0.02\n",
      "Minimum of cross validation score: \t\t0.60\n",
      "Test set score: \t\t\t\t0.64\n"
     ]
    }
   ],
   "source": [
    "from sklearn.tree import DecisionTreeClassifier\n",
    "from sklearn.model_selection import cross_val_score\n",
    "from sklearn.linear_model import LogisticRegression\n",
    "\n",
    "lin_model = LogisticRegression(C = 100, max_iter = 2000)\n",
    "lin_model.fit(X_train, y_train)\n",
    "scores = cross_val_score(lin_model, X_train, y_train, cv = 10)\n",
    "\n",
    "print(\"Cross validation scores: {}\".format(scores))\n",
    "print(\"Average cross validation score: \\t\\t{:.2f}\".format(scores.mean()))\n",
    "print(\"Std. dev of cross validation score: \\t\\t{:.2f}\".format(scores.std()))\n",
    "print(\"Minimum of cross validation score: \\t\\t{:.2f}\".format(scores.min()))\n",
    "y_pred = lin_model.predict(X_test)\n",
    "print(\"Test set score: \\t\\t\\t\\t{:.2f}\".format(np.mean(y_pred == y_test)))"
   ]
  },
  {
   "cell_type": "code",
   "execution_count": 11,
   "metadata": {},
   "outputs": [
    {
     "data": {
      "image/png": "[encoded data removed]",
      "text/plain": [
       "<Figure size 640x480 with 1 Axes>"
      ]
     },
     "metadata": {},
     "output_type": "display_data"
    }
   ],
   "source": [
    "# Setting the range for the parameter (from 1 to 10)\n",
    "parameter_range = np.arange(1, 11, 1)\n",
    "\n",
    " \n",
    "plt.bar(parameter_range, scores,\n",
    "         label=\"10 Fold\", color='g')\n",
    "\n",
    "plt.plot(scores.mean())\n",
    "plt.hlines(scores.mean(),xmin=0,xmax=10,colors=\"red\")\n",
    "\n",
    "# Creating the plot\n",
    "plt.title(\"Fold Accuracy\")\n",
    "plt.xlabel(\"Fold\")\n",
    "plt.ylabel(\"Accuracy\")\n",
    "plt.ylim(0,1)\n",
    "plt.tight_layout()\n",
    "plt.legend(loc='best')\n",
    "plt.xticks(ticks=parameter_range)\n",
    "plt.show()"
   ]
  },
  {
   "cell_type": "code",
   "execution_count": 12,
   "metadata": {
    "tags": []
   },
   "outputs": [
    {
     "name": "stdout",
     "output_type": "stream",
     "text": [
      "Number of columns in data frame =  8\n",
      "INCOME    -2.9816358527257323e-06 \n",
      "\n",
      "OVERAGE    -0.005850926159370588 \n",
      "\n",
      "LEFTOVER    -0.0007842407284675782 \n",
      "\n",
      "HOUSE    1.8948721746861057e-06 \n",
      "\n",
      "HANDSET_PRICE    -0.00039923025990176215 \n",
      "\n",
      "OVER_15MINS_CALLS_PER_MONTH    -0.0005403368479157658 \n",
      "\n",
      "AVERAGE_CALL_DURATION    -1.6438783560561454e-05 \n",
      "\n",
      "COLLEGE2    -5.21409552635026e-06 \n",
      "\n",
      "FINALLY printing the Intercept for Logistic Regression =  [-5.83312163e-06]\n"
     ]
    }
   ],
   "source": [
    "# col_list = list(df.columns.values.tolist())\n",
    "print(\"Number of columns in data frame = \", len(X_train.columns))\n",
    "count = 0\n",
    "for col in X_train.columns:\n",
    "    if(col == \"LEAVE2\"):\n",
    "        break\n",
    "    print(col,\"  \", lin_model.coef_[0,count],\"\\n\")\n",
    "    count = count + 1\n",
    "    \n",
    "print(\"FINALLY printing the Intercept for Logistic Regression = \", lin_model.intercept_)"
   ]
  },
  {
   "cell_type": "code",
   "execution_count": 13,
   "metadata": {
    "tags": []
   },
   "outputs": [
    {
     "name": "stdout",
     "output_type": "stream",
     "text": [
      "Number of columns in data frame =  8\n",
      "INCOME\n",
      "ODDS Ratio for variable  INCOME =   0.9999970183685923 \n",
      "\n",
      "OVERAGE\n",
      "ODDS Ratio for variable  OVERAGE =   0.9941661571750758 \n",
      "\n",
      "LEFTOVER\n",
      "ODDS Ratio for variable  LEFTOVER =   0.9992160667079192 \n",
      "\n",
      "HOUSE\n",
      "ODDS Ratio for variable  HOUSE =   1.00000189487397 \n",
      "\n",
      "HANDSET_PRICE\n",
      "ODDS Ratio for variable  HANDSET_PRICE =   0.9996008494218943 \n",
      "\n",
      "OVER_15MINS_CALLS_PER_MONTH\n",
      "ODDS Ratio for variable  OVER_15MINS_CALLS_PER_MONTH =   0.9994598091077492 \n",
      "\n",
      "AVERAGE_CALL_DURATION\n",
      "ODDS Ratio for variable  AVERAGE_CALL_DURATION =   0.9999835613515555 \n",
      "\n",
      "COLLEGE2\n",
      "ODDS Ratio for variable  COLLEGE2 =   0.999994785918067 \n",
      "\n"
     ]
    }
   ],
   "source": [
    "# Finally print the ODDS ratios for each of the independent variables\n",
    "# The ODDS ratio os the increase in likelihood for a ONE unit increase in the independent variable\n",
    "# The odds ratio is simply the exponent of the fitted coefficient\n",
    "# col_list = list(df.columns.values.tolist())\n",
    "print(\"Number of columns in data frame = \", len(X_train.columns))\n",
    "count = 0\n",
    "for col in X_train.columns:\n",
    "    # Do nothing if you have reached the last column since it contains the diagnosis (the Y variable)\n",
    "    print(col)\n",
    "    if(col == \"LEAVE2\"):\n",
    "        count = count + 1\n",
    "        break\n",
    "    print(\"ODDS Ratio for variable \", col,\"=  \", np.exp(lin_model.coef_[0,count]),\"\\n\")\n",
    "    count = count + 1\n",
    "    "
   ]
  },
  {
   "cell_type": "code",
   "execution_count": 14,
   "metadata": {},
   "outputs": [
    {
     "name": "stdout",
     "output_type": "stream",
     "text": [
      "Optimization terminated successfully.\n",
      "         Current function value: 0.634461\n",
      "         Iterations 5\n",
      "                           Logit Regression Results                           \n",
      "==============================================================================\n",
      "Dep. Variable:                 LEAVE2   No. Observations:                15000\n",
      "Model:                          Logit   Df Residuals:                    14992\n",
      "Method:                           MLE   Df Model:                            7\n",
      "Date:                Thu, 19 Oct 2023   Pseudo R-squ.:                 0.08460\n",
      "Time:                        13:08:03   Log-Likelihood:                -9516.9\n",
      "converged:                       True   LL-Null:                       -10397.\n",
      "Covariance Type:            nonrobust   LLR p-value:                     0.000\n",
      "===============================================================================================\n",
      "                                  coef    std err          z      P>|z|      [0.025      0.975]\n",
      "-----------------------------------------------------------------------------------------------\n",
      "INCOME                      -2.366e-06   5.89e-07     -4.015      0.000   -3.52e-06   -1.21e-06\n",
      "OVERAGE                        -0.0047      0.000    -14.850      0.000      -0.005      -0.004\n",
      "LEFTOVER                       -0.0056      0.001     -7.833      0.000      -0.007      -0.004\n",
      "HOUSE                        2.033e-06   6.42e-08     31.696      0.000    1.91e-06    2.16e-06\n",
      "HANDSET_PRICE                  -0.0003      0.000     -2.922      0.003      -0.001      -0.000\n",
      "OVER_15MINS_CALLS_PER_MONTH    -0.0119      0.003     -3.876      0.000      -0.018      -0.006\n",
      "AVERAGE_CALL_DURATION          -0.0076      0.004     -1.842      0.066      -0.016       0.000\n",
      "COLLEGE2                       -0.0060      0.034     -0.177      0.859      -0.072       0.060\n",
      "===============================================================================================\n"
     ]
    }
   ],
   "source": [
    "import statsmodels.api as sm\n",
    "logit_model=sm.Logit(y_train,X_train)\n",
    "result=logit_model.fit()\n",
    "print(result.summary())"
   ]
  },
  {
   "cell_type": "code",
   "execution_count": 16,
   "metadata": {},
   "outputs": [
    {
     "name": "stdout",
     "output_type": "stream",
     "text": [
      "Confusion matrix, without normalization\n",
      "[[1517  907]\n",
      " [ 871 1705]]\n",
      "Normalized confusion matrix\n",
      "[[0.63 0.37]\n",
      " [0.34 0.66]]\n"
     ]
    },
    {
     "data": {
      "image/png": "[encoded data removed]",
      "text/plain": [
       "<Figure size 640x480 with 2 Axes>"
      ]
     },
     "metadata": {},
     "output_type": "display_data"
    },
    {
     "data": {
      "image/png": "[encoded data removed]",
      "text/plain": [
       "<Figure size 640x480 with 2 Axes>"
      ]
     },
     "metadata": {},
     "output_type": "display_data"
    },
    {
     "name": "stdout",
     "output_type": "stream",
     "text": [
      "              precision    recall  f1-score   support\n",
      "\n",
      "        STAY       0.64      0.63      0.63      2424\n",
      "       LEAVE       0.65      0.66      0.66      2576\n",
      "\n",
      "    accuracy                           0.64      5000\n",
      "   macro avg       0.64      0.64      0.64      5000\n",
      "weighted avg       0.64      0.64      0.64      5000\n",
      "\n"
     ]
    }
   ],
   "source": [
    "from sklearn.metrics import ConfusionMatrixDisplay\n",
    "from sklearn.metrics import classification_report\n",
    "from sklearn import datasets, metrics, model_selection, svm\n",
    "import numpy as np\n",
    "\n",
    "classifier = lin_model\n",
    "\n",
    "#decision_tree = DecisionTreeClassifier(max_depth=6, criterion=\"entropy\",max_leaf_nodes = 12, min_samples_leaf = 1) \n",
    "## Let's tell the model what is the data\n",
    "#decision_tree.fit(X_train, y_train)\n",
    "\n",
    "\n",
    "\n",
    "np.set_printoptions(precision=2)\n",
    "\n",
    "# Plot non-normalized confusion matrix\n",
    "titles_options = [\n",
    "    (\"Confusion matrix, without normalization\", None),\n",
    "    (\"Normalized confusion matrix\", \"true\"),\n",
    "]\n",
    "for title, normalize in titles_options:\n",
    "    disp = ConfusionMatrixDisplay.from_estimator(\n",
    "        classifier,\n",
    "        X_test,\n",
    "        y_test,\n",
    "        display_labels=[\"STAY\",\"LEAVE\"],\n",
    "        cmap=plt.cm.Blues,\n",
    "        normalize=normalize,\n",
    "    )\n",
    "    disp.ax_.set_title(title)\n",
    "\n",
    "    print(title)\n",
    "    print(disp.confusion_matrix)\n",
    "\n",
    "plt.show()\n",
    "\n",
    "scores = cross_val_score(classifier, X_train, y_train, cv = 10)\n",
    "\n",
    "print(classification_report(y_test, y_pred, target_names=[\"STAY\",\"LEAVE\"]))"
   ]
  }
 ],
 "metadata": {
  "kernelspec": {
   "display_name": "Python 3 (ipykernel)",
   "language": "python",
   "name": "python3"
  },
  "language_info": {
   "codemirror_mode": {
    "name": "ipython",
    "version": 3
   },
   "file_extension": ".py",
   "mimetype": "text/x-python",
   "name": "python",
   "nbconvert_exporter": "python",
   "pygments_lexer": "ipython3",
   "version": "3.11.4"
  }
 },
 "nbformat": 4,
 "nbformat_minor": 4
}
