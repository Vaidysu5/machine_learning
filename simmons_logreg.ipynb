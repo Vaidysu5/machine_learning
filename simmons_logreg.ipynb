{
 "cells": [
  {
   "cell_type": "code",
   "execution_count": 30,
   "metadata": {
    "ExecuteTime": {
     "end_time": "2023-08-24T23:41:02.897959Z",
     "start_time": "2023-08-24T23:41:01.110353Z"
    },
    "tags": []
   },
   "outputs": [],
   "source": [
    "import os\n",
    "import numpy as np\n",
    "import pandas as pd\n",
    "import math\n",
    "import matplotlib.pylab as plt\n",
    "import seaborn as sns\n",
    "# IMPORT STATSMODELS\n",
    "import statsmodels.api as sm\n",
    "\n",
    "#no warnings \n",
    "def warn(*args, **kwargs):\n",
    "    pass\n",
    "import warnings\n",
    "warnings.warn = warn\n",
    "\n",
    "%matplotlib inline\n",
    "sns.set(style='ticks', palette='Set2')"
   ]
  },
  {
   "cell_type": "code",
   "execution_count": 31,
   "metadata": {
    "ExecuteTime": {
     "end_time": "2023-08-24T23:41:20.577893Z",
     "start_time": "2023-08-24T23:41:20.539903Z"
    },
    "tags": []
   },
   "outputs": [
    {
     "data": {
      "text/html": [
       "<div>\n",
       "<style scoped>\n",
       "    .dataframe tbody tr th:only-of-type {\n",
       "        vertical-align: middle;\n",
       "    }\n",
       "\n",
       "    .dataframe tbody tr th {\n",
       "        vertical-align: top;\n",
       "    }\n",
       "\n",
       "    .dataframe thead th {\n",
       "        text-align: right;\n",
       "    }\n",
       "</style>\n",
       "<table border=\"1\" class=\"dataframe\">\n",
       "  <thead>\n",
       "    <tr style=\"text-align: right;\">\n",
       "      <th></th>\n",
       "      <th>Customer</th>\n",
       "      <th>Spending(000)</th>\n",
       "      <th>Card</th>\n",
       "      <th>Coupon-Usage-Indicator</th>\n",
       "    </tr>\n",
       "  </thead>\n",
       "  <tbody>\n",
       "    <tr>\n",
       "      <th>0</th>\n",
       "      <td>1</td>\n",
       "      <td>2.291</td>\n",
       "      <td>1</td>\n",
       "      <td>0</td>\n",
       "    </tr>\n",
       "    <tr>\n",
       "      <th>1</th>\n",
       "      <td>2</td>\n",
       "      <td>3.215</td>\n",
       "      <td>1</td>\n",
       "      <td>0</td>\n",
       "    </tr>\n",
       "    <tr>\n",
       "      <th>2</th>\n",
       "      <td>3</td>\n",
       "      <td>2.135</td>\n",
       "      <td>1</td>\n",
       "      <td>0</td>\n",
       "    </tr>\n",
       "    <tr>\n",
       "      <th>3</th>\n",
       "      <td>4</td>\n",
       "      <td>3.924</td>\n",
       "      <td>0</td>\n",
       "      <td>0</td>\n",
       "    </tr>\n",
       "    <tr>\n",
       "      <th>4</th>\n",
       "      <td>5</td>\n",
       "      <td>2.528</td>\n",
       "      <td>1</td>\n",
       "      <td>0</td>\n",
       "    </tr>\n",
       "  </tbody>\n",
       "</table>\n",
       "</div>"
      ],
      "text/plain": [
       "   Customer  Spending(000)  Card  Coupon-Usage-Indicator\n",
       "0         1          2.291     1                       0\n",
       "1         2          3.215     1                       0\n",
       "2         3          2.135     1                       0\n",
       "3         4          3.924     0                       0\n",
       "4         5          2.528     1                       0"
      ]
     },
     "execution_count": 31,
     "metadata": {},
     "output_type": "execute_result"
    }
   ],
   "source": [
    "# Import data into Pandas as a data frame\n",
    "df = pd.read_csv('./simmons-data-raw.csv')\n",
    "df.head(5)"
   ]
  },
  {
   "cell_type": "code",
   "execution_count": 32,
   "metadata": {
    "ExecuteTime": {
     "end_time": "2023-08-24T23:42:10.368607Z",
     "start_time": "2023-08-24T23:42:10.345090Z"
    },
    "scrolled": true,
    "tags": []
   },
   "outputs": [
    {
     "data": {
      "text/html": [
       "<div>\n",
       "<style scoped>\n",
       "    .dataframe tbody tr th:only-of-type {\n",
       "        vertical-align: middle;\n",
       "    }\n",
       "\n",
       "    .dataframe tbody tr th {\n",
       "        vertical-align: top;\n",
       "    }\n",
       "\n",
       "    .dataframe thead th {\n",
       "        text-align: right;\n",
       "    }\n",
       "</style>\n",
       "<table border=\"1\" class=\"dataframe\">\n",
       "  <thead>\n",
       "    <tr style=\"text-align: right;\">\n",
       "      <th></th>\n",
       "      <th>Spending(000)</th>\n",
       "      <th>Card</th>\n",
       "    </tr>\n",
       "  </thead>\n",
       "  <tbody>\n",
       "    <tr>\n",
       "      <th>0</th>\n",
       "      <td>2.291</td>\n",
       "      <td>1</td>\n",
       "    </tr>\n",
       "    <tr>\n",
       "      <th>1</th>\n",
       "      <td>3.215</td>\n",
       "      <td>1</td>\n",
       "    </tr>\n",
       "    <tr>\n",
       "      <th>2</th>\n",
       "      <td>2.135</td>\n",
       "      <td>1</td>\n",
       "    </tr>\n",
       "    <tr>\n",
       "      <th>3</th>\n",
       "      <td>3.924</td>\n",
       "      <td>0</td>\n",
       "    </tr>\n",
       "    <tr>\n",
       "      <th>4</th>\n",
       "      <td>2.528</td>\n",
       "      <td>1</td>\n",
       "    </tr>\n",
       "  </tbody>\n",
       "</table>\n",
       "</div>"
      ],
      "text/plain": [
       "   Spending(000)  Card\n",
       "0          2.291     1\n",
       "1          3.215     1\n",
       "2          2.135     1\n",
       "3          3.924     0\n",
       "4          2.528     1"
      ]
     },
     "execution_count": 32,
     "metadata": {},
     "output_type": "execute_result"
    }
   ],
   "source": [
    "predictor_cols = df[[\"Spending(000)\",\"Card\"]]\n",
    "target_col = df[\"Coupon-Usage-Indicator\"]\n",
    "#predictor_cols[:5]\n",
    "predictor_cols.head(5)"
   ]
  },
  {
   "cell_type": "code",
   "execution_count": 33,
   "metadata": {
    "ExecuteTime": {
     "end_time": "2023-08-24T23:43:09.147300Z",
     "start_time": "2023-08-24T23:43:09.009788Z"
    },
    "tags": []
   },
   "outputs": [
    {
     "data": {
      "text/html": [
       "<style>#sk-container-id-3 {color: black;}#sk-container-id-3 pre{padding: 0;}#sk-container-id-3 div.sk-toggleable {background-color: white;}#sk-container-id-3 label.sk-toggleable__label {cursor: pointer;display: block;width: 100%;margin-bottom: 0;padding: 0.3em;box-sizing: border-box;text-align: center;}#sk-container-id-3 label.sk-toggleable__label-arrow:before {content: \"▸\";float: left;margin-right: 0.25em;color: #696969;}#sk-container-id-3 label.sk-toggleable__label-arrow:hover:before {color: black;}#sk-container-id-3 div.sk-estimator:hover label.sk-toggleable__label-arrow:before {color: black;}#sk-container-id-3 div.sk-toggleable__content {max-height: 0;max-width: 0;overflow: hidden;text-align: left;background-color: #f0f8ff;}#sk-container-id-3 div.sk-toggleable__content pre {margin: 0.2em;color: black;border-radius: 0.25em;background-color: #f0f8ff;}#sk-container-id-3 input.sk-toggleable__control:checked~div.sk-toggleable__content {max-height: 200px;max-width: 100%;overflow: auto;}#sk-container-id-3 input.sk-toggleable__control:checked~label.sk-toggleable__label-arrow:before {content: \"▾\";}#sk-container-id-3 div.sk-estimator input.sk-toggleable__control:checked~label.sk-toggleable__label {background-color: #d4ebff;}#sk-container-id-3 div.sk-label input.sk-toggleable__control:checked~label.sk-toggleable__label {background-color: #d4ebff;}#sk-container-id-3 input.sk-hidden--visually {border: 0;clip: rect(1px 1px 1px 1px);clip: rect(1px, 1px, 1px, 1px);height: 1px;margin: -1px;overflow: hidden;padding: 0;position: absolute;width: 1px;}#sk-container-id-3 div.sk-estimator {font-family: monospace;background-color: #f0f8ff;border: 1px dotted black;border-radius: 0.25em;box-sizing: border-box;margin-bottom: 0.5em;}#sk-container-id-3 div.sk-estimator:hover {background-color: #d4ebff;}#sk-container-id-3 div.sk-parallel-item::after {content: \"\";width: 100%;border-bottom: 1px solid gray;flex-grow: 1;}#sk-container-id-3 div.sk-label:hover label.sk-toggleable__label {background-color: #d4ebff;}#sk-container-id-3 div.sk-serial::before {content: \"\";position: absolute;border-left: 1px solid gray;box-sizing: border-box;top: 0;bottom: 0;left: 50%;z-index: 0;}#sk-container-id-3 div.sk-serial {display: flex;flex-direction: column;align-items: center;background-color: white;padding-right: 0.2em;padding-left: 0.2em;position: relative;}#sk-container-id-3 div.sk-item {position: relative;z-index: 1;}#sk-container-id-3 div.sk-parallel {display: flex;align-items: stretch;justify-content: center;background-color: white;position: relative;}#sk-container-id-3 div.sk-item::before, #sk-container-id-3 div.sk-parallel-item::before {content: \"\";position: absolute;border-left: 1px solid gray;box-sizing: border-box;top: 0;bottom: 0;left: 50%;z-index: -1;}#sk-container-id-3 div.sk-parallel-item {display: flex;flex-direction: column;z-index: 1;position: relative;background-color: white;}#sk-container-id-3 div.sk-parallel-item:first-child::after {align-self: flex-end;width: 50%;}#sk-container-id-3 div.sk-parallel-item:last-child::after {align-self: flex-start;width: 50%;}#sk-container-id-3 div.sk-parallel-item:only-child::after {width: 0;}#sk-container-id-3 div.sk-dashed-wrapped {border: 1px dashed gray;margin: 0 0.4em 0.5em 0.4em;box-sizing: border-box;padding-bottom: 0.4em;background-color: white;}#sk-container-id-3 div.sk-label label {font-family: monospace;font-weight: bold;display: inline-block;line-height: 1.2em;}#sk-container-id-3 div.sk-label-container {text-align: center;}#sk-container-id-3 div.sk-container {/* jupyter's `normalize.less` sets `[hidden] { display: none; }` but bootstrap.min.css set `[hidden] { display: none !important; }` so we also need the `!important` here to be able to override the default hidden behavior on the sphinx rendered scikit-learn.org. See: https://github.com/scikit-learn/scikit-learn/issues/21755 */display: inline-block !important;position: relative;}#sk-container-id-3 div.sk-text-repr-fallback {display: none;}</style><div id=\"sk-container-id-3\" class=\"sk-top-container\"><div class=\"sk-text-repr-fallback\"><pre>LogisticRegression(C=100, max_iter=5000)</pre><b>In a Jupyter environment, please rerun this cell to show the HTML representation or trust the notebook. <br />On GitHub, the HTML representation is unable to render, please try loading this page with nbviewer.org.</b></div><div class=\"sk-container\" hidden><div class=\"sk-item\"><div class=\"sk-estimator sk-toggleable\"><input class=\"sk-toggleable__control sk-hidden--visually\" id=\"sk-estimator-id-3\" type=\"checkbox\" checked><label for=\"sk-estimator-id-3\" class=\"sk-toggleable__label sk-toggleable__label-arrow\">LogisticRegression</label><div class=\"sk-toggleable__content\"><pre>LogisticRegression(C=100, max_iter=5000)</pre></div></div></div></div></div>"
      ],
      "text/plain": [
       "LogisticRegression(C=100, max_iter=5000)"
      ]
     },
     "execution_count": 33,
     "metadata": {},
     "output_type": "execute_result"
    }
   ],
   "source": [
    "from sklearn import linear_model\n",
    "from sklearn.model_selection import train_test_split\n",
    "\n",
    "lin_model = linear_model.LogisticRegression(C = 100, max_iter = 5000)\n",
    "#lin_model = linear_model.LogisticRegression()\n",
    "\n",
    "# Fit the Logistic regression model now\n",
    "X_train, X_test, y_train, y_test = train_test_split(predictor_cols,target_col,test_size = 0.10,random_state = 0)\n",
    "#lin_model.fit(X_train, y_train)\n",
    "lin_model.fit(predictor_cols, target_col)"
   ]
  },
  {
   "cell_type": "code",
   "execution_count": 34,
   "metadata": {
    "ExecuteTime": {
     "end_time": "2023-08-24T23:43:19.537147Z",
     "start_time": "2023-08-24T23:43:19.518087Z"
    },
    "tags": []
   },
   "outputs": [
    {
     "name": "stdout",
     "output_type": "stream",
     "text": [
      "Spending(000)    0.3415002113237048 \n",
      "\n",
      "Card    1.0965335890903796 \n",
      "\n",
      "FINALLY printing the Intercept for Logistic Regression =  [-2.14]\n"
     ]
    }
   ],
   "source": [
    "# col_list = list(df.columns.values.tolist())\n",
    "# print(\"Number of columns in data frame = \", len(df.columns))\n",
    "count = 0\n",
    "for col in predictor_cols:\n",
    "    print(col,\"  \", lin_model.coef_[0,count],\"\\n\")\n",
    "    count = count + 1\n",
    "    \n",
    "print(\"FINALLY printing the Intercept for Logistic Regression = \", lin_model.intercept_)\n",
    "\n",
    "#print(\"X_train shape: {}\".format(X_train.shape))\n",
    "#print(\"X_test shape: {}\".format(X_test.shape))\n",
    "#print(\"y_train shape: {}\".format(y_train.shape))\n",
    "#print(\"y_test shape: {}\".format(y_test.shape))"
   ]
  },
  {
   "cell_type": "code",
   "execution_count": 35,
   "metadata": {
    "ExecuteTime": {
     "end_time": "2023-08-24T23:43:57.373980Z",
     "start_time": "2023-08-24T23:43:57.359963Z"
    },
    "tags": []
   },
   "outputs": [
    {
     "name": "stdout",
     "output_type": "stream",
     "text": [
      "Predicted value for Jack =  [0.41]\n",
      "Predicted value for Jill =  [0.31]\n"
     ]
    }
   ],
   "source": [
    "X_new1=[[2.0, 1.0] ]\n",
    "X_new2=[[4.0, 0.0] ]\n",
    "def Predict_for_new_customer(X_new):\n",
    "    pred_val = lin_model.predict_proba(X_new)[:,1]\n",
    "    #print(\"Prediction for new value = \", pred_val)       \n",
    "    return(pred_val)\n",
    "    \n",
    "print(\"Predicted value for Jack = \" , Predict_for_new_customer(X_new1))\n",
    "print(\"Predicted value for Jill = \" , Predict_for_new_customer(X_new2))"
   ]
  },
  {
   "cell_type": "code",
   "execution_count": 36,
   "metadata": {
    "ExecuteTime": {
     "end_time": "2023-08-24T23:44:27.957820Z",
     "start_time": "2023-08-24T23:44:27.940236Z"
    },
    "tags": []
   },
   "outputs": [
    {
     "name": "stdout",
     "output_type": "stream",
     "text": [
      "ODDS Ratio for variable  Spending(000) =   1.4070568906505017 \n",
      "\n",
      "ODDS Ratio for variable  Card =   2.993770378266022 \n",
      "\n"
     ]
    }
   ],
   "source": [
    "# Finally print the ODDS ratios for each of the independent variables\n",
    "# The ODDS ratio os the increase in likelihood for a ONE unit increase in the independent variable\n",
    "# The odds ratio is simply the exponent of the fitted coefficient\n",
    "# col_list = list(df.columns.values.tolist())\n",
    "# print(\"Number of columns in data frame = \", len(df.columns))\n",
    "count = 0\n",
    "for col in predictor_cols:\n",
    "    print(\"ODDS Ratio for variable \", col,\"=  \", np.exp(lin_model.coef_[0,count]),\"\\n\")\n",
    "    count = count + 1\n"
   ]
  },
  {
   "cell_type": "code",
   "execution_count": 37,
   "metadata": {
    "tags": []
   },
   "outputs": [
    {
     "name": "stdout",
     "output_type": "stream",
     "text": [
      "Confusion matrix, without normalization\n",
      "[[72  0]\n",
      " [ 0 28]]\n",
      "Normalized confusion matrix\n",
      "[[1. 0.]\n",
      " [0. 1.]]\n"
     ]
    },
    {
     "data": {
      "image/png": "[encoded data removed]",
      "text/plain": [
       "<Figure size 640x480 with 2 Axes>"
      ]
     },
     "metadata": {},
     "output_type": "display_data"
    },
    {
     "data": {
      "image/png": "[encoded data removed]",
      "text/plain": [
       "<Figure size 640x480 with 2 Axes>"
      ]
     },
     "metadata": {},
     "output_type": "display_data"
    }
   ],
   "source": [
    "from sklearn.metrics import ConfusionMatrixDisplay\n",
    "from sklearn.metrics import classification_report\n",
    "from sklearn import datasets, metrics, model_selection, svm\n",
    "from sklearn.tree import DecisionTreeClassifier\n",
    "from sklearn.model_selection import cross_val_score\n",
    "import numpy as np\n",
    "\n",
    "classifier = lin_model\n",
    "\n",
    "#decision_tree = DecisionTreeClassifier(max_depth=6, criterion=\"entropy\",max_leaf_nodes = 12, min_samples_leaf = 1) \n",
    "## Let's tell the model what is the data\n",
    "#decision_tree.fit(X_train, y_train)\n",
    "\n",
    "#scores = cross_val_score(decision_tree, X_train, y_train, cv = 10)\n",
    "\n",
    "y_pred = classifier.predict(predictor_cols)\n",
    "\n",
    "np.set_printoptions(precision=2)\n",
    "\n",
    "# Plot non-normalized confusion matrix\n",
    "titles_options = [\n",
    "    (\"Confusion matrix, without normalization\", None),\n",
    "    (\"Normalized confusion matrix\", \"true\"),\n",
    "]\n",
    "for title, normalize in titles_options:\n",
    "    disp = ConfusionMatrixDisplay.from_estimator(\n",
    "        classifier,\n",
    "        predictor_cols,\n",
    "        y_pred,\n",
    "        display_labels=[\"STAY\",\"LEAVE\"],\n",
    "        cmap=plt.cm.Blues,\n",
    "        normalize=normalize,\n",
    "    )\n",
    "    disp.ax_.set_title(title)\n",
    "\n",
    "    print(title)\n",
    "    print(disp.confusion_matrix)\n",
    "\n",
    "plt.show()\n",
    "\n"
   ]
  },
  {
   "cell_type": "code",
   "execution_count": 44,
   "metadata": {
    "tags": []
   },
   "outputs": [
    {
     "name": "stdout",
     "output_type": "stream",
     "text": [
      "Cross validation scores: [0.5 0.5 0.8 0.7 0.7 0.7 0.8 0.8 0.6 0.8]\n",
      "Average cross validation score: \t\t0.69\n",
      "Std. dev of cross validation score: \t\t0.11\n",
      "Minimum of cross validation score: \t\t0.50\n",
      "Test set score: \t\t\t\t0.80\n"
     ]
    }
   ],
   "source": [
    "scores = cross_val_score(classifier, predictor_cols, target_col, cv = 10)\n",
    "\n",
    "print(\"Cross validation scores: {}\".format(scores))\n",
    "print(\"Average cross validation score: \\t\\t{:.2f}\".format(scores.mean()))\n",
    "print(\"Std. dev of cross validation score: \\t\\t{:.2f}\".format(scores.std()))\n",
    "print(\"Minimum of cross validation score: \\t\\t{:.2f}\".format(scores.min()))\n",
    "y_pred = lin_model.predict(X_test)\n",
    "print(\"Test set score: \\t\\t\\t\\t{:.2f}\".format(np.mean(y_pred == y_test)))\n",
    "\n",
    "#we weren't asked to, but it would seem to be that our model is overfitting our data likely to small sample size"
   ]
  },
  {
   "cell_type": "code",
   "execution_count": 39,
   "metadata": {
    "ExecuteTime": {
     "end_time": "2023-08-24T23:45:40.538341Z",
     "start_time": "2023-08-24T23:45:40.463247Z"
    },
    "tags": []
   },
   "outputs": [
    {
     "name": "stdout",
     "output_type": "stream",
     "text": [
      "Optimization terminated successfully.\n",
      "         Current function value: 0.604869\n",
      "         Iterations 5\n"
     ]
    }
   ],
   "source": [
    "logit_mod = sm.Logit(target_col, predictor_cols)\n",
    "\n",
    "logit_res = logit_mod.fit()"
   ]
  },
  {
   "cell_type": "code",
   "execution_count": 40,
   "metadata": {
    "ExecuteTime": {
     "end_time": "2023-08-24T23:45:46.523479Z",
     "start_time": "2023-08-24T23:45:46.497297Z"
    },
    "tags": []
   },
   "outputs": [
    {
     "name": "stdout",
     "output_type": "stream",
     "text": [
      "                             Logit Regression Results                             \n",
      "==================================================================================\n",
      "Dep. Variable:     Coupon-Usage-Indicator   No. Observations:                  100\n",
      "Model:                              Logit   Df Residuals:                       97\n",
      "Method:                               MLE   Df Model:                            2\n",
      "Date:                    Mon, 30 Oct 2023   Pseudo R-squ.:                  0.1012\n",
      "Time:                            16:01:48   Log-Likelihood:                -60.487\n",
      "converged:                           True   LL-Null:                       -67.301\n",
      "Covariance Type:                nonrobust   LLR p-value:                  0.001098\n",
      "=================================================================================\n",
      "                    coef    std err          z      P>|z|      [0.025      0.975]\n",
      "---------------------------------------------------------------------------------\n",
      "const            -2.1464      0.577     -3.718      0.000      -3.278      -1.015\n",
      "Spending(000)     0.3416      0.129      2.655      0.008       0.089       0.594\n",
      "Card              1.0987      0.445      2.471      0.013       0.227       1.970\n",
      "=================================================================================\n"
     ]
    }
   ],
   "source": [
    "print(logit_res.summary())"
   ]
  },
  {
   "cell_type": "code",
   "execution_count": 28,
   "metadata": {
    "ExecuteTime": {
     "end_time": "2023-08-24T23:46:33.437518Z",
     "start_time": "2023-08-24T23:46:33.430122Z"
    },
    "tags": []
   },
   "outputs": [
    {
     "name": "stdout",
     "output_type": "stream",
     "text": [
      "Parameters:  const           -2.146373\n",
      "Spending(000)    0.341643\n",
      "Card             1.098732\n",
      "dtype: float64\n"
     ]
    }
   ],
   "source": [
    "print(\"Parameters: \", logit_res.params)"
   ]
  }
 ],
 "metadata": {
  "kernelspec": {
   "display_name": "Python 3 (ipykernel)",
   "language": "python",
   "name": "python3"
  },
  "language_info": {
   "codemirror_mode": {
    "name": "ipython",
    "version": 3
   },
   "file_extension": ".py",
   "mimetype": "text/x-python",
   "name": "python",
   "nbconvert_exporter": "python",
   "pygments_lexer": "ipython3",
   "version": "3.11.4"
  }
 },
 "nbformat": 4,
 "nbformat_minor": 4
}
